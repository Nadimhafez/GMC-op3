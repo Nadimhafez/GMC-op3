{
 "cells": [
  {
   "cell_type": "code",
   "execution_count": 57,
   "id": "d8a3501b-c404-4dec-8da3-934d74771465",
   "metadata": {},
   "outputs": [
    {
     "name": "stdin",
     "output_type": "stream",
     "text": [
      "please enter the desired mathematical operation 3*2\n"
     ]
    },
    {
     "name": "stdout",
     "output_type": "stream",
     "text": [
      "The result is  6\n"
     ]
    },
    {
     "name": "stdin",
     "output_type": "stream",
     "text": [
      "Do you wish to perform another operation ? no\n"
     ]
    },
    {
     "name": "stdout",
     "output_type": "stream",
     "text": [
      "See you next time!\n"
     ]
    }
   ],
   "source": [
    "operation = input(\"please enter the desired mathematical operation\") #the user will enter the desired operation he/she wishes to perform#\n",
    "if \"/0\" in operation : #In case the user tries to divide by zero\n",
    "    print(\"You cannot divide a number by 0, please try another operation!\")\n",
    "elif re.search(\"[a-zA-Z]\", operation): #in case the user uses letters in the operation\n",
    "    print(\"Please enter a valid mathematical operation without letters\")\n",
    "elif \"*\" in operation or \"+\" in operation or \"-\" in operation or \"/\" in operation or \"**\" in operation : \n",
    "    result= eval(operation)\n",
    "    print(\"The result is \",result)\n",
    "else : \n",
    "    print(\"Please review your operation or choose a valid operator\") #in case the user doesn't use any operators\n",
    "\n",
    "while True :\n",
    "    conti = input(\"Do you wish to perform another operation ?\").lower()\n",
    "    if conti == \"yes\":\n",
    "        operation = input(\"please enter the desired mathematical operation\")\n",
    "        if \"/0\" in operation :\n",
    "            print(\"You cannot divide a number by 0, please try another operation!\")\n",
    "        elif re.search(\"[a-zA-Z]\", operation):\n",
    "            print(\"Please enter a valid mathematical operation without letters\")\n",
    "        elif \"*\" in operation or \"+\" in operation or \"-\" in operation or \"/\" in operation or \"**\" in operation :\n",
    "            result= eval(operation)\n",
    "            print(\"The result is \",result)\n",
    "        else :\n",
    "            print(\"Please review your operation or choose a valid operator\")\n",
    "    elif conti==\"no\":\n",
    "        print(\"See you next time!\")\n",
    "        break\n",
    "    else:\n",
    "        print(\"please enter a valid answer!\")\n",
    "        break"
   ]
  }
 ],
 "metadata": {
  "kernelspec": {
   "display_name": "Python 3 (ipykernel)",
   "language": "python",
   "name": "python3"
  },
  "language_info": {
   "codemirror_mode": {
    "name": "ipython",
    "version": 3
   },
   "file_extension": ".py",
   "mimetype": "text/x-python",
   "name": "python",
   "nbconvert_exporter": "python",
   "pygments_lexer": "ipython3",
   "version": "3.11.7"
  }
 },
 "nbformat": 4,
 "nbformat_minor": 5
}
